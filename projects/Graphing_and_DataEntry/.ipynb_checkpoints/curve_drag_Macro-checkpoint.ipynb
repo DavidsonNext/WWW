{
 "metadata": {
  "name": "",
  "signature": "sha256:bd719ccff1deb5ab4c76404d7f35464f647034e7e2768a7ccacc3f185d5e7d18"
 },
 "nbformat": 3,
 "nbformat_minor": 0,
 "worksheets": [
  {
   "cells": [
    {
     "cell_type": "code",
     "collapsed": false,
     "input": [
      "from IPython.display import HTML"
     ],
     "language": "python",
     "metadata": {},
     "outputs": [],
     "prompt_number": 1
    },
    {
     "cell_type": "markdown",
     "metadata": {},
     "source": [
      "#Macroeconmics - general feature for dragging curves\n"
     ]
    },
    {
     "cell_type": "code",
     "collapsed": false,
     "input": [
      "%%HTML\n",
      "\n",
      "<!DOCTYPE html>\n",
      "<html>\n",
      "    <head>\n",
      "        <style> \n",
      "            body {\n",
      "                margin: 10px;\n",
      "                /*padding-top: 40px;*/\n",
      "            }\n",
      "        </style>\n",
      "    </head>\n",
      "\n",
      "    <body>\n",
      "        <!-- COMMENT: Define the jxgbox - aka, where all the interactive graphing will go. -->\n",
      "        <div style=\"width: 100%; overflow: hidden;\">\n",
      "            <div id='jxgbox1' class='jxgbox' style='width:450px; height:350px; float:left; border: solid #1f628d 2px;'></div>\n",
      "        </div>\n",
      "        \n",
      "        <!-- COMMENT: Buttons below are used to add debugging features to an interactive. Conole logging allows you to see\n",
      "            output within a browser's console. Try reading about Chrome's console. -->\n",
      "        \n",
      "        <input class=\"btn\" type=\"button\" value=\"Pass State for Grading\" onClick=\"getInput()\">\n",
      "        <div id=\"spaceBelow\">State:</div>\n",
      "\n",
      "        \n",
      "        <!-- COMMENT: Where our Javascript begins. -->\n",
      "        <script type=\"text/javascript\" src=\"https://cdnjs.cloudflare.com/ajax/libs/jsxgraph/0.98/jsxgraphcore.js\"></script>\n",
      "        <script type='text/javascript'>\n",
      "\n",
      "            bboxlimits = [-1.1, 12, 12, -1.1];\n",
      "            var board = JXG.JSXGraph.initBoard('jxgbox1', {axis:false, \n",
      "                                                    showCopyright: false,\n",
      "                                                    showNavigation: false,\n",
      "                                                    zoom: false,\n",
      "                                                    pan: false,\n",
      "                                                    boundingbox:bboxlimits,\n",
      "                                                    grid: false,\n",
      "                                                    hasMouseUp: true, \n",
      "            });\n",
      "            \n",
      "            xaxis = board.create('axis', [[0, 0], [12, 0]], {withLabel: true, name: \"Real GDP\", label: {offset: [320,-20]}});\n",
      "            yaxis = board.create('axis', [[0, 0], [0, 12]], {withLabel: true, name: \"Price Level\", label: {offset: [-60,260]}});\n",
      "\n",
      "            //Axes\n",
      "            xaxis.removeAllTicks();\n",
      "            yaxis.removeAllTicks();\n",
      "            var xlabel = board.create('text',[-1,10,\"Price<br>Level\"],{fixed:true});\n",
      "            var ylabel = board.create('text',[9,-0.5,\"Real GDP\"],{fixed:true});\n",
      "            \n",
      "            //Define Functions\n",
      "            c1 = [-2.0,-2.0]\n",
      "            c2 = [12.0,12.0]\n",
      "            var p1 = board.create('point',[-2.0,-2.0],{withLabel:false,visible:false});\n",
      "            var p2 = board.create('point',[12.0,12.0],{withLabel:false,visible:false});\n",
      "            var dragLine = board.create('line',[p1,p2],{strokeColor:'blue',strokeWidth:'3',name:'AD',withLabel:false});\n",
      "            var staticLine = board.create('line',[c1,c2],{strokeColor:'gray',strokeWidth:'1',dash:'1',fixed:true});\n",
      "            \n",
      "            var f2 = board.create('functiongraph', [function(x){ return Math.abs(10.0/x);},0.01,15], {strokeColor:'black',strokeWidth:'3',name:'SRAS'});\n",
      "            \n",
      "            //Standard edX JSinput functions\n",
      "            getInput = function(){\n",
      "                state = {\"dragLine\":{'p1Y':dragLine.point1.Y(),'p2Y':dragLine.point2.Y()},\n",
      "                         \"staticLine\":{'p1Y':staticLine.point1.Y(),'p2Y':staticLine.point2.Y()}};\n",
      "                statestr = JSON.stringify(state);\n",
      "                console.log(statestr)\n",
      "                \n",
      "                //IPython Notebook Considerations\n",
      "                document.getElementById('spaceBelow').innerHTML += '<br>'+statestr;\n",
      "                var command = \"state = '\" + statestr + \"'\";\n",
      "                console.log(command);\n",
      "\n",
      "                //Kernel\n",
      "                var kernel = IPython.notebook.kernel;\n",
      "                kernel.execute(command);\n",
      "\n",
      "                return JSON.stringify(statestr);\n",
      "            }\n",
      "\n",
      "            getState = function(){\n",
      "                state = {input: JSON.parse(getInput())};\n",
      "                statestr = JSON.stringify(state);\n",
      "                // $('#msg').html('getstate ' + statestr);\n",
      "                return statestr\n",
      "            }\n",
      "\n",
      "            setState = function(statestr){\n",
      "                console.log(statestr);\n",
      "                // alert(statestr);\n",
      "                initializeVector(statestr);\n",
      "                $('#msg').html('setstate ' + statestr);\n",
      "                state = JSON.parse(statestr);\n",
      "                console.log(state);\n",
      "                initializeVector(state);\n",
      "                console.debug('State updated successfully from saved.');\n",
      "            }\n",
      "            \n",
      "        </script>\n",
      "    </body>\n",
      "</html>"
     ],
     "language": "python",
     "metadata": {},
     "outputs": [
      {
       "output_type": "stream",
       "stream": "stdout",
       "text": [
        "Writing curve_drag_Macro.html\n"
       ]
      }
     ],
     "prompt_number": 3
    },
    {
     "cell_type": "code",
     "collapsed": false,
     "input": [
      "import json\n",
      "answer = json.loads(state)\n",
      "\n",
      "def dist1D(xf,xi):\n",
      "    print xf,xi,xf-xi\n",
      "    return xf-xi\n",
      "    \n",
      "delta = dist1D(answer['dragLine']['p1Y'],answer['staticLine']['p1Y'])\n",
      "if delta > 0:\n",
      "    if delta > 0.5:\n",
      "        print {'ok': True, 'msg': 'Good job.'}\n",
      "elif delta < 0:\n",
      "    print {'ok': False, 'msg': 'Please rethink your solution - explanation.'}\n",
      "else:\n",
      "    print {'ok': False, 'msg': 'Something wrong.'}"
     ],
     "language": "python",
     "metadata": {},
     "outputs": [
      {
       "output_type": "stream",
       "stream": "stdout",
       "text": [
        "-1.18587570621 -2 0.814124293785\n",
        "{'msg': 'Good job.', 'ok': True}\n"
       ]
      }
     ],
     "prompt_number": 24
    },
    {
     "cell_type": "code",
     "collapsed": false,
     "input": [],
     "language": "python",
     "metadata": {},
     "outputs": []
    }
   ],
   "metadata": {}
  }
 ]
}