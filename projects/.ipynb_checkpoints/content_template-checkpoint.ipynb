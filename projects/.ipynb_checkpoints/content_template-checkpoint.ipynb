{
 "metadata": {
  "name": "",
  "signature": "sha256:d0a460937caf34c9af0644ebff00e2926ccd878a1ce9832caaaf873f9338e841"
 },
 "nbformat": 3,
 "nbformat_minor": 0,
 "worksheets": [
  {
   "cells": [
    {
     "cell_type": "code",
     "collapsed": false,
     "input": [
      "import jinja2 as jj"
     ],
     "language": "python",
     "metadata": {},
     "outputs": [],
     "prompt_number": 1
    },
    {
     "cell_type": "code",
     "collapsed": false,
     "input": [
      "T = jj.Template(\n",
      "    '''\n",
      "    <a href=\"{{URL}}\">\n",
      "        <img class=\"img-responsive\" src=\"projects/Graphing/curve_select_Macro.png\" alt=\"\">\n",
      "    </a>\n",
      "    <h3>\n",
      "        <a href=\"{{URL}}\">Curve Selection</a>\n",
      "    </h3>\n",
      "    <!-- Button trigger modal -->\n",
      "\n",
      "    <button type=\"button\" class=\"btn btn-primary btn-lg\" data-toggle=\"modal\" data-target=\"#myModal\">\n",
      "      Demo\n",
      "    </button>\n",
      "\n",
      "    <!-- Modal -->\n",
      "    <div class=\"modal fade\" id=\"myModal\" tabindex=\"-1\" role=\"dialog\" aria-labelledby=\"myModalLabel\" aria-hidden=\"true\">\n",
      "      <div class=\"modal-dialog\">\n",
      "        <div class=\"modal-content\">\n",
      "          <div class=\"modal-header\">\n",
      "            <button type=\"button\" class=\"close\" data-dismiss=\"modal\" aria-label=\"Close\"><span aria-hidden=\"true\">&times;</span></button>\n",
      "            <h4 class=\"modal-title\" id=\"myModalLabel\">Curve Selection</h4>\n",
      "          </div>\n",
      "          <div class=\"modal-body\">\n",
      "            <iframe frameBorder=\"0\" width={{iWidth}} height={{iHeight}} src=\"{{URL}}\"></iframe>\n",
      "          </div>\n",
      "          <div class=\"modal-footer\">\n",
      "            <button type=\"button\" class=\"btn btn-default\" data-dismiss=\"modal\">Close</button>\n",
      "            <button type=\"button\" class=\"btn btn-primary\">Save changes</button>\n",
      "          </div>\n",
      "        </div>\n",
      "      </div>\n",
      "    </div>\n",
      "            \n",
      "    <p>{{Description}}</p>\n",
      "    <h4>Instructions:</h4> <p>{{Instructions}}</p>\n",
      "    '''\n",
      "    )\n",
      "print T.render(URL='html',iWidth=500,iHeight=400,\n",
      "               Description='''Example of selecting curves within figure, \n",
      "               i.e., an interactive multiple choice. Inspired by Macroeconomics \n",
      "               problems where students may have trouble visualizing relationships \n",
      "               between various economic variables.''',\n",
      "               Instructions='''Select one of the two gray curves.''',\n",
      "               )"
     ],
     "language": "python",
     "metadata": {},
     "outputs": [
      {
       "output_type": "stream",
       "stream": "stdout",
       "text": [
        "\n",
        "    <a href=\"html\">\n",
        "        <img class=\"img-responsive\" src=\"projects/Graphing/curve_select_Macro.png\" alt=\"\">\n",
        "    </a>\n",
        "    <h3>\n",
        "        <a href=\"html\">Curve Selection</a>\n",
        "    </h3>\n",
        "    <!-- Button trigger modal -->\n",
        "\n",
        "    <button type=\"button\" class=\"btn btn-primary btn-lg\" data-toggle=\"modal\" data-target=\"#myModal\">\n",
        "      Demo\n",
        "    </button>\n",
        "\n",
        "    <!-- Modal -->\n",
        "    <div class=\"modal fade\" id=\"myModal\" tabindex=\"-1\" role=\"dialog\" aria-labelledby=\"myModalLabel\" aria-hidden=\"true\">\n",
        "      <div class=\"modal-dialog\">\n",
        "        <div class=\"modal-content\">\n",
        "          <div class=\"modal-header\">\n",
        "            <button type=\"button\" class=\"close\" data-dismiss=\"modal\" aria-label=\"Close\"><span aria-hidden=\"true\">&times;</span></button>\n",
        "            <h4 class=\"modal-title\" id=\"myModalLabel\">Curve Selection</h4>\n",
        "          </div>\n",
        "          <div class=\"modal-body\">\n",
        "            <iframe frameBorder=\"0\" width=500 height=400 src=\"html\"></iframe>\n",
        "          </div>\n",
        "          <div class=\"modal-footer\">\n",
        "            <button type=\"button\" class=\"btn btn-default\" data-dismiss=\"modal\">Close</button>\n",
        "            <button type=\"button\" class=\"btn btn-primary\">Save changes</button>\n",
        "          </div>\n",
        "        </div>\n",
        "      </div>\n",
        "    </div>\n",
        "            \n",
        "    <p>Example of selecting curves within figure, \n",
        "               i.e., an interactive multiple choice. Inspired by Macroeconomics \n",
        "               problems where students may have trouble visualizing relationships \n",
        "               between various economic variables.</p>\n",
        "    <h4>Instructions:</h4> <p>Select one of the two gray curves.</p>\n",
        "    \n"
       ]
      }
     ],
     "prompt_number": 7
    },
    {
     "cell_type": "code",
     "collapsed": false,
     "input": [],
     "language": "python",
     "metadata": {},
     "outputs": []
    }
   ],
   "metadata": {}
  }
 ]
}