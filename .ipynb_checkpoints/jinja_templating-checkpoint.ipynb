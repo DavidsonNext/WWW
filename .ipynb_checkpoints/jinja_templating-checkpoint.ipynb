{
 "cells": [
  {
   "cell_type": "code",
   "execution_count": 1,
   "metadata": {
    "collapsed": false
   },
   "outputs": [],
   "source": [
    "#!/usr/bin/env python\n",
    "import os\n",
    "import re\n",
    "from jinja2 import Environment, FileSystemLoader\n",
    "\n",
    "PATH = os.path.dirname(os.path.abspath(\"__file__\"))\n",
    "TEMPLATE_ENVIRONMENT = Environment(\n",
    "    autoescape=False,\n",
    "    loader=FileSystemLoader(os.path.join(PATH, 'templates')),\n",
    "    trim_blocks=False)\n",
    "\n",
    "def render_template(template_filename, context):\n",
    "    return TEMPLATE_ENVIRONMENT.get_template(template_filename).render(context)"
   ]
  },
  {
   "cell_type": "markdown",
   "metadata": {},
   "source": [
    "### Rendering Navbar Pages"
   ]
  },
  {
   "cell_type": "code",
   "execution_count": 45,
   "metadata": {
    "collapsed": false
   },
   "outputs": [],
   "source": [
    "#------------------------------------------------------\n",
    "fname = \"index.html\"\n",
    "# iList, actList = new_crawl_directory_for_html('../')\n",
    "context = {\n",
    "}\n",
    "\n",
    "with open(fname, 'w') as f:\n",
    "    html = render_template('page_main.html', context)\n",
    "    f.write(html)\n",
    "    \n",
    "\n",
    "#------------------------------------------------------\n",
    "fname = \"topics.html\"\n",
    "# iList, actList = new_crawl_directory_for_html('../')\n",
    "context = {\n",
    "}\n",
    "\n",
    "with open(fname, 'w') as f:\n",
    "    html = render_template('page_topics.html', context)\n",
    "    f.write(html)\n",
    "    \n",
    "#------------------------------------------------------\n",
    "fname = \"drawing.html\"\n",
    "# iList, actList = new_crawl_directory_for_html('../')\n",
    "context = {\n",
    "}\n",
    "\n",
    "with open(fname, 'w') as f:\n",
    "    html = render_template('page_drawing.html', context)\n",
    "    f.write(html)    \n",
    "    \n",
    "    \n",
    "#------------------------------------------------------\n",
    "fname = \"graphing.html\"\n",
    "# iList, actList = new_crawl_directory_for_html('../')\n",
    "context = {\n",
    "}\n",
    "\n",
    "with open(fname, 'w') as f:\n",
    "    html = render_template('page_graphing.html', context)\n",
    "    f.write(html)    \n",
    "\n",
    "\n",
    "#------------------------------------------------------\n",
    "fname = \"data_entry.html\"\n",
    "# iList, actList = new_crawl_directory_for_html('../')\n",
    "context = {\n",
    "}\n",
    "\n",
    "with open(fname, 'w') as f:\n",
    "    html = render_template('page_data_entry.html', context)\n",
    "    f.write(html)\n",
    "    \n",
    "\n",
    "#------------------------------------------------------\n",
    "fname = \"contact.html\"\n",
    "# iList, actList = new_crawl_directory_for_html('../')\n",
    "context = {\n",
    "}\n",
    "\n",
    "with open(fname, 'w') as f:\n",
    "    html = render_template('page_contact.html', context)\n",
    "    f.write(html)"
   ]
  },
  {
   "cell_type": "markdown",
   "metadata": {
    "collapsed": true
   },
   "source": [
    "###Rendering Interactive Links by Topic"
   ]
  },
  {
   "cell_type": "markdown",
   "metadata": {},
   "source": [
    "###Macroeconomics"
   ]
  },
  {
   "cell_type": "code",
   "execution_count": 52,
   "metadata": {
    "collapsed": false
   },
   "outputs": [],
   "source": [
    "PATH = os.path.dirname(os.path.abspath(\"__file__\"))\n",
    "TEMPLATE_ENVIRONMENT = Environment(\n",
    "    autoescape=False,\n",
    "    loader=FileSystemLoader(os.path.join(PATH, 'templates')),\n",
    "    trim_blocks=False)\n",
    "\n",
    "ignorePaths = set(['../.ipynb_checkpoints','../OldStructure','../Python','../SASS','../WWW'])\n",
    "\n",
    "def render_template(template_filename, context):\n",
    "    return TEMPLATE_ENVIRONMENT.get_template(template_filename).render(context)\n",
    " \n",
    "def crawl_directory_for_html(directory, base_url):\n",
    "    iList=[]\n",
    "    actList=[]\n",
    "    for dirpath, subdirs, files in os.walk(directory):\n",
    "        for file in files:\n",
    "            relURL = os.path.join(dirpath, file)  #e.g., ../11_Loanable_Funds/LC1/(file.html)\n",
    "#             relURL = relURL.split(base_url)[0]\n",
    "            relURL = re.sub(directory,'', relURL)\n",
    "            unit = relURL.split('/')[0]  #e.g., 11_Loanable_Funds\n",
    "#             base_url = 'https://dnextinteractives.s3.amazonaws.com/Macroeconomics/'\n",
    "            \n",
    "            #Create S3 Link\n",
    "            link = base_url + relURL#.lstrip('../')\n",
    "#             print relURL\n",
    "#             print link\n",
    "            if file.endswith('.html'):\n",
    "                if \"OldStructure\" in link or \"WWW\" in link: \n",
    "                    a = True\n",
    "#                     print \"Ignore folder: %s\" % dirpath\n",
    "                else:\n",
    "                    iList.append(link)\n",
    "    \n",
    "            if \"ActTable\" in file:\n",
    "#                 print link\n",
    "                actList.append(link)\n",
    "    \n",
    "\n",
    "# def new_crawl_directory_for_html(directory):\n",
    "#     iList=[]\n",
    "#     actList=[]\n",
    "#     units={}\n",
    "#     for dirpath, subdirs, files in os.walk(directory):\n",
    "#         r = dirpath.split('/')\n",
    "#         if len(r)>2:\n",
    "#             if any(x not in dirpath for x in ignorePaths): \n",
    "#                 name = r[1]\n",
    "#                 LC = r[2]\n",
    "#                 print name,LC\n",
    "\n",
    "#                 for file in files:\n",
    "#                     if file.endswith('.html'):\n",
    "#                         relURL = os.path.join(dirpath, file)  #e.g., ../11_Loanable_Funds/LC1/(file.html)\n",
    "#                         unit = relURL.split('/')[0]  #e.g., 11_Loanable_Funds\n",
    "#                         baseURL = 'https://dnextinteractives.s3.amazonaws.com/Macroeconomics/'\n",
    "\n",
    "\n",
    "\n",
    "#                         #Create S3 Link\n",
    "#                         link = baseURL + relURL.lstrip('../')\n",
    "#                         print \"Folder: %s\" % dirpath\n",
    "#                         iList.append(link)\n",
    "\n",
    "#                         if \"ActTable\" in file:\n",
    "#                 #                 print link\n",
    "#                             actList.append(link)\n",
    "    \n",
    "            \n",
    "    return iList, actList \n",
    "\n",
    "def create_index_html(dir_to_crawl,f_output,base_url):\n",
    "#     f_output = \"MacroInteractives.html\"\n",
    "    iList, actList = crawl_directory_for_html(dir_to_crawl,base_url)\n",
    "    context = {\n",
    "        'TotalInteractives': len(iList) + len(actList),\n",
    "        'JSXlist': iList,\n",
    "        'actList': actList\n",
    "    }\n",
    "    \n",
    "    with open(f_output, 'w') as f:\n",
    "        html = render_template('interactives.html', context)\n",
    "        f.write(html)\n",
    " \n",
    " \n",
    "def main():\n",
    "    base_url = \"https://dnextinteractives.s3.amazonaws.com/calculus/\"\n",
    "    create_index_html('../DNextInteractives/calculus/','test.html',base_url)\n",
    " \n",
    "########################################\n",
    " \n",
    "if __name__ == \"__main__\":\n",
    "    main()"
   ]
  },
  {
   "cell_type": "code",
   "execution_count": 55,
   "metadata": {
    "collapsed": false
   },
   "outputs": [],
   "source": [
    "### Calculus\n",
    "base_url = \"https://dnextinteractives.s3.amazonaws.com/calculus\"\n",
    "create_index_html('../DNextInteractives/calculus','CaluclusInteractives.html',base_url)\n",
    "\n",
    "### Macroeconomics\n",
    "base_url = \"https://dnextinteractives.s3.amazonaws.com/Macroeconomics\"\n",
    "create_index_html('../DNextInteractives/Macroeconomics','MacroInteractives.html',base_url)"
   ]
  },
  {
   "cell_type": "code",
   "execution_count": 12,
   "metadata": {
    "collapsed": true
   },
   "outputs": [],
   "source": []
  },
  {
   "cell_type": "code",
   "execution_count": 2,
   "metadata": {
    "collapsed": false
   },
   "outputs": [],
   "source": []
  },
  {
   "cell_type": "code",
   "execution_count": null,
   "metadata": {
    "collapsed": true
   },
   "outputs": [],
   "source": []
  }
 ],
 "metadata": {
  "kernelspec": {
   "display_name": "Python 2",
   "name": "python2"
  },
  "language_info": {
   "codemirror_mode": {
    "name": "ipython",
    "version": 2
   },
   "file_extension": ".py",
   "mimetype": "text/x-python",
   "name": "python",
   "nbconvert_exporter": "python",
   "pygments_lexer": "ipython2",
   "version": "2.7.9"
  }
 },
 "nbformat": 4,
 "nbformat_minor": 0
}